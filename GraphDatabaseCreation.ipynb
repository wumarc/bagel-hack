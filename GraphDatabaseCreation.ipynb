{
 "cells": [
  {
   "cell_type": "code",
   "execution_count": 3,
   "metadata": {},
   "outputs": [
    {
     "name": "stdout",
     "output_type": "stream",
     "text": [
      "  event_id attendee_id\n",
      "0       e1        a925\n",
      "1       e1        a464\n",
      "2       e1        a769\n",
      "3       e1        a611\n",
      "4       e1        a799\n"
     ]
    }
   ],
   "source": [
    "import random\n",
    "import pandas as pd\n",
    "\n",
    "# Define the total numbers for events and attendees\n",
    "num_events = 100\n",
    "num_attendees = 1000\n",
    "\n",
    "# Generate event IDs: e1, e2, ..., e100\n",
    "event_ids = [f\"e{i}\" for i in range(1, num_events + 1)]\n",
    "\n",
    "# Generate attendee IDs: a1, a2, ..., a1000\n",
    "attendee_ids = [f\"a{i}\" for i in range(1, num_attendees + 1)]\n",
    "\n",
    "# Initialize an empty list to store the event-attendee pairs\n",
    "event_attendee_pairs = []\n",
    "\n",
    "# Loop through each event and assign a random set of attendees\n",
    "for event in event_ids:\n",
    "    # Randomly determine the number of attendees for this event (between 30 and 90)\n",
    "    num_event_attendees = random.randint(30, 90)\n",
    "    \n",
    "    # Randomly sample the specified number of unique attendees (without duplicates per event)\n",
    "    selected_attendees = random.sample(attendee_ids, num_event_attendees)\n",
    "    \n",
    "    # Create a dictionary entry for each event-attendee pair and add it to the list\n",
    "    for attendee in selected_attendees:\n",
    "        event_attendee_pairs.append({\n",
    "            'event_id': event,\n",
    "            'attendee_id': attendee\n",
    "        })\n",
    "\n",
    "# Convert the list of dictionaries to a pandas DataFrame\n",
    "df = pd.DataFrame(event_attendee_pairs)\n",
    "\n",
    "# Export the DataFrame to a CSV file\n",
    "df.to_csv('event_attendee_pairs.csv', index=False)\n",
    "\n",
    "# Optionally, display the first few rows of the DataFrame\n",
    "print(df.head())\n"
   ]
  },
  {
   "cell_type": "code",
   "execution_count": 4,
   "metadata": {},
   "outputs": [
    {
     "data": {
      "application/vnd.microsoft.datawrangler.viewer.v0+json": {
       "columns": [
        {
         "name": "index",
         "rawType": "int64",
         "type": "integer"
        },
        {
         "name": "event_id",
         "rawType": "object",
         "type": "string"
        },
        {
         "name": "attendee_id",
         "rawType": "object",
         "type": "string"
        }
       ],
       "conversionMethod": "pd.DataFrame",
       "ref": "850b8523-ac29-4d7e-b962-c86e3158354d",
       "rows": [
        [
         "0",
         "e1",
         "a925"
        ],
        [
         "1",
         "e1",
         "a464"
        ],
        [
         "2",
         "e1",
         "a769"
        ],
        [
         "3",
         "e1",
         "a611"
        ],
        [
         "4",
         "e1",
         "a799"
        ],
        [
         "5",
         "e1",
         "a8"
        ],
        [
         "6",
         "e1",
         "a616"
        ],
        [
         "7",
         "e1",
         "a622"
        ],
        [
         "8",
         "e1",
         "a637"
        ],
        [
         "9",
         "e1",
         "a35"
        ],
        [
         "10",
         "e1",
         "a936"
        ],
        [
         "11",
         "e1",
         "a751"
        ],
        [
         "12",
         "e1",
         "a907"
        ],
        [
         "13",
         "e1",
         "a957"
        ],
        [
         "14",
         "e1",
         "a846"
        ],
        [
         "15",
         "e1",
         "a761"
        ],
        [
         "16",
         "e1",
         "a274"
        ],
        [
         "17",
         "e1",
         "a267"
        ],
        [
         "18",
         "e1",
         "a508"
        ],
        [
         "19",
         "e1",
         "a152"
        ],
        [
         "20",
         "e1",
         "a368"
        ],
        [
         "21",
         "e1",
         "a916"
        ],
        [
         "22",
         "e1",
         "a448"
        ],
        [
         "23",
         "e1",
         "a323"
        ],
        [
         "24",
         "e1",
         "a804"
        ],
        [
         "25",
         "e1",
         "a315"
        ],
        [
         "26",
         "e1",
         "a986"
        ],
        [
         "27",
         "e1",
         "a590"
        ],
        [
         "28",
         "e1",
         "a872"
        ],
        [
         "29",
         "e1",
         "a324"
        ],
        [
         "30",
         "e1",
         "a756"
        ],
        [
         "31",
         "e1",
         "a994"
        ],
        [
         "32",
         "e1",
         "a63"
        ],
        [
         "33",
         "e1",
         "a108"
        ],
        [
         "34",
         "e1",
         "a384"
        ],
        [
         "35",
         "e1",
         "a476"
        ],
        [
         "36",
         "e1",
         "a196"
        ],
        [
         "37",
         "e1",
         "a735"
        ],
        [
         "38",
         "e1",
         "a836"
        ],
        [
         "39",
         "e1",
         "a414"
        ],
        [
         "40",
         "e1",
         "a114"
        ],
        [
         "41",
         "e1",
         "a236"
        ],
        [
         "42",
         "e1",
         "a950"
        ],
        [
         "43",
         "e1",
         "a695"
        ],
        [
         "44",
         "e1",
         "a282"
        ],
        [
         "45",
         "e1",
         "a809"
        ],
        [
         "46",
         "e1",
         "a151"
        ],
        [
         "47",
         "e1",
         "a184"
        ],
        [
         "48",
         "e1",
         "a531"
        ],
        [
         "49",
         "e1",
         "a292"
        ]
       ],
       "shape": {
        "columns": 2,
        "rows": 5841
       }
      },
      "text/html": [
       "<div>\n",
       "<style scoped>\n",
       "    .dataframe tbody tr th:only-of-type {\n",
       "        vertical-align: middle;\n",
       "    }\n",
       "\n",
       "    .dataframe tbody tr th {\n",
       "        vertical-align: top;\n",
       "    }\n",
       "\n",
       "    .dataframe thead th {\n",
       "        text-align: right;\n",
       "    }\n",
       "</style>\n",
       "<table border=\"1\" class=\"dataframe\">\n",
       "  <thead>\n",
       "    <tr style=\"text-align: right;\">\n",
       "      <th></th>\n",
       "      <th>event_id</th>\n",
       "      <th>attendee_id</th>\n",
       "    </tr>\n",
       "  </thead>\n",
       "  <tbody>\n",
       "    <tr>\n",
       "      <th>0</th>\n",
       "      <td>e1</td>\n",
       "      <td>a925</td>\n",
       "    </tr>\n",
       "    <tr>\n",
       "      <th>1</th>\n",
       "      <td>e1</td>\n",
       "      <td>a464</td>\n",
       "    </tr>\n",
       "    <tr>\n",
       "      <th>2</th>\n",
       "      <td>e1</td>\n",
       "      <td>a769</td>\n",
       "    </tr>\n",
       "    <tr>\n",
       "      <th>3</th>\n",
       "      <td>e1</td>\n",
       "      <td>a611</td>\n",
       "    </tr>\n",
       "    <tr>\n",
       "      <th>4</th>\n",
       "      <td>e1</td>\n",
       "      <td>a799</td>\n",
       "    </tr>\n",
       "    <tr>\n",
       "      <th>...</th>\n",
       "      <td>...</td>\n",
       "      <td>...</td>\n",
       "    </tr>\n",
       "    <tr>\n",
       "      <th>5836</th>\n",
       "      <td>e100</td>\n",
       "      <td>a789</td>\n",
       "    </tr>\n",
       "    <tr>\n",
       "      <th>5837</th>\n",
       "      <td>e100</td>\n",
       "      <td>a535</td>\n",
       "    </tr>\n",
       "    <tr>\n",
       "      <th>5838</th>\n",
       "      <td>e100</td>\n",
       "      <td>a982</td>\n",
       "    </tr>\n",
       "    <tr>\n",
       "      <th>5839</th>\n",
       "      <td>e100</td>\n",
       "      <td>a190</td>\n",
       "    </tr>\n",
       "    <tr>\n",
       "      <th>5840</th>\n",
       "      <td>e100</td>\n",
       "      <td>a576</td>\n",
       "    </tr>\n",
       "  </tbody>\n",
       "</table>\n",
       "<p>5841 rows × 2 columns</p>\n",
       "</div>"
      ],
      "text/plain": [
       "     event_id attendee_id\n",
       "0          e1        a925\n",
       "1          e1        a464\n",
       "2          e1        a769\n",
       "3          e1        a611\n",
       "4          e1        a799\n",
       "...       ...         ...\n",
       "5836     e100        a789\n",
       "5837     e100        a535\n",
       "5838     e100        a982\n",
       "5839     e100        a190\n",
       "5840     e100        a576\n",
       "\n",
       "[5841 rows x 2 columns]"
      ]
     },
     "execution_count": 4,
     "metadata": {},
     "output_type": "execute_result"
    }
   ],
   "source": [
    "df"
   ]
  }
 ],
 "metadata": {
  "kernelspec": {
   "display_name": "Python 3",
   "language": "python",
   "name": "python3"
  },
  "language_info": {
   "codemirror_mode": {
    "name": "ipython",
    "version": 3
   },
   "file_extension": ".py",
   "mimetype": "text/x-python",
   "name": "python",
   "nbconvert_exporter": "python",
   "pygments_lexer": "ipython3",
   "version": "3.12.5"
  }
 },
 "nbformat": 4,
 "nbformat_minor": 2
}
